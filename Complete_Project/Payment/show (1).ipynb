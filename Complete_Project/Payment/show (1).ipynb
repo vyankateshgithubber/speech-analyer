{
  "nbformat": 4,
  "nbformat_minor": 0,
  "metadata": {
    "colab": {
      "name": "show.ipynb",
      "provenance": [],
      "collapsed_sections": []
    },
    "kernelspec": {
      "name": "python3",
      "display_name": "Python 3"
    },
    "language_info": {
      "name": "python"
    },
    "accelerator": "GPU"
  },
  "cells": [
    {
      "cell_type": "code",
      "metadata": {
        "id": "DLvAx20toKTK"
      },
      "source": [
        "!pip install keras\n",
        "!pip install nltk\n",
        "!pip install math\n",
        "!pip install flask-ngrok\n",
        "! pip install SpeechRecognition\n",
        "!apt install libasound2-dev portaudio19-dev\n",
        "! pip install PyAudio"
      ],
      "execution_count": null,
      "outputs": []
    },
    {
      "cell_type": "code",
      "metadata": {
        "colab": {
          "base_uri": "https://localhost:8080/"
        },
        "id": "KMAkU2j9pNvq",
        "outputId": "7d1585d1-c122-4be5-d5f7-20d56027c786"
      },
      "source": [
        "from flask_ngrok import run_with_ngrok\n",
        "from subprocess import run, PIPE\n",
        "from flask import Flask,render_template,logging,request,redirect,url_for\n",
        "import threading\n",
        "from google.colab import files\n",
        "%cd /content/drive/MyDrive/Payment\n",
        "#open('mylib.py','wb').write(src)\n",
        "import mylib\n",
        "app=Flask(__name__)\n",
        "run_with_ngrok(app)\n",
        "app.config['UPLOAD_FOLDER']=True\n",
        "app. config[\"SECRET_KEY\"] =True\n",
        "important=\"\"\n",
        "def STT(file):\n",
        "  import time\n",
        "  import pyaudio\n",
        "  import speech_recognition as sr\n",
        "  def callback(recognizer , audio):\n",
        "    try:\n",
        "        input_string=recognizer.recognize_google(audio,language=\"en-SG\")\n",
        "        global important\n",
        "        important=input_string\n",
        "    except:\n",
        "        print(\"Opps didn't catch\")\n",
        "  r=sr.Recognizer()\n",
        "  m=sr.AudioFile(file)\n",
        "  with m as source:\n",
        "        r.dynamic_energy_treshold=True\n",
        "        r.adjust_for_ambient_noise(source,duration=5)\n",
        "        time.sleep(0.5)\n",
        "  stop_listening=r.listen_in_background(m,callback)\n",
        "  for _ in range(8):time.sleep(0.1) \n",
        "  stop_listening()\n",
        "  for i in range(5):time.sleep(0.1)\n",
        "@app.route(\"/\",methods=['GET'])\n",
        "def index():\n",
        "    return render_template('index.html')\n",
        "@app.route(\"/output\", methods=['POST'])\n",
        "def upload_file():\n",
        "    file=request.files['file']\n",
        "    if file.filename != '':\n",
        "        file.save(file.filename)\n",
        "        STT(file.filename)\n",
        "        emotion=mylib.next_block(important)\n",
        "        return render_template('index.html',transcript=important,emotion=emotion)\n",
        "    return redirect(url_for('index',transcript=\"important\"))\n",
        "threading.Thread(target=app.run()).start()"
      ],
      "execution_count": 10,
      "outputs": [
        {
          "output_type": "stream",
          "text": [
            "/content/drive/MyDrive/Payment\n",
            " * Serving Flask app \"__main__\" (lazy loading)\n",
            " * Environment: production\n",
            "\u001b[31m   WARNING: This is a development server. Do not use it in a production deployment.\u001b[0m\n",
            "\u001b[2m   Use a production WSGI server instead.\u001b[0m\n",
            " * Debug mode: off\n"
          ],
          "name": "stdout"
        },
        {
          "output_type": "stream",
          "text": [
            " * Running on http://127.0.0.1:5000/ (Press CTRL+C to quit)\n"
          ],
          "name": "stderr"
        },
        {
          "output_type": "stream",
          "text": [
            " * Running on http://7df1a5dc5b59.ngrok.io\n",
            " * Traffic stats available on http://127.0.0.1:4040\n"
          ],
          "name": "stdout"
        },
        {
          "output_type": "stream",
          "text": [
            "127.0.0.1 - - [03/Apr/2021 16:54:55] \"\u001b[37mGET / HTTP/1.1\u001b[0m\" 200 -\n",
            "127.0.0.1 - - [03/Apr/2021 16:54:56] \"\u001b[37mGET /static/styles/style.css HTTP/1.1\u001b[0m\" 200 -\n",
            "127.0.0.1 - - [03/Apr/2021 16:54:56] \"\u001b[33mGET /style.css HTTP/1.1\u001b[0m\" 404 -\n",
            "127.0.0.1 - - [03/Apr/2021 16:54:56] \"\u001b[37mGET /static/images.png HTTP/1.1\u001b[0m\" 200 -\n",
            "127.0.0.1 - - [03/Apr/2021 16:54:56] \"\u001b[37mGET /static/pic.png HTTP/1.1\u001b[0m\" 200 -\n",
            "127.0.0.1 - - [03/Apr/2021 16:54:56] \"\u001b[37mGET /static/back.jpg HTTP/1.1\u001b[0m\" 200 -\n",
            "127.0.0.1 - - [03/Apr/2021 16:54:57] \"\u001b[33mGET /favicon.ico HTTP/1.1\u001b[0m\" 404 -\n"
          ],
          "name": "stderr"
        }
      ]
    },
    {
      "cell_type": "code",
      "metadata": {
        "id": "dwbQoQpNjdNO"
      },
      "source": [
        "##a button to run a function \n",
        "import IPython\n",
        "import uuid\n",
        "from google.colab import output\n",
        "\n",
        "class InvokeButton(object):\n",
        "  def __init__(self, title, callback):\n",
        "    self._title = title\n",
        "    self._callback = callback\n",
        "\n",
        "  def _repr_html_(self):\n",
        "    callback_id = 'button-' + str(uuid.uuid4())\n",
        "    output.register_callback(callback_id, self._callback)\n",
        "\n",
        "    template = \"\"\"<button id=\"{callback_id}\">{title}</button>\n",
        "        <script>\n",
        "          document.querySelector(\"#{callback_id}\").onclick = (e) => {{\n",
        "            google.colab.kernel.invokeFunction('{callback_id}', [], {{}})\n",
        "            e.preventDefault();\n",
        "          }};\n",
        "        </script>\"\"\"\n",
        "    html = template.format(title=self._title, callback_id=callback_id)\n",
        "    return html\n",
        "\n",
        "def do_something():\n",
        "  print('here')\n",
        "\n",
        "InvokeButton('click me', do_something)"
      ],
      "execution_count": null,
      "outputs": []
    }
  ]
}