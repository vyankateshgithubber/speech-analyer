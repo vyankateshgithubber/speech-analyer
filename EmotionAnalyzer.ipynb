{
  "nbformat": 4,
  "nbformat_minor": 0,
  "metadata": {
    "colab": {
      "name": "EmotionAnalyzer.ipynb",
      "provenance": [],
      "collapsed_sections": [],
      "authorship_tag": "ABX9TyMMK43BL9kLi4IYsQX803tk",
      "include_colab_link": true
    },
    "kernelspec": {
      "name": "python3",
      "display_name": "Python 3"
    }
  },
  "cells": [
    {
      "cell_type": "markdown",
      "metadata": {
        "id": "view-in-github",
        "colab_type": "text"
      },
      "source": [
        "<a href=\"https://colab.research.google.com/github/vyankateshgithubber/speech-analyer/blob/main/EmotionAnalyzer.ipynb\" target=\"_parent\"><img src=\"https://colab.research.google.com/assets/colab-badge.svg\" alt=\"Open In Colab\"/></a>"
      ]
    },
    {
      "cell_type": "markdown",
      "metadata": {
        "id": "NUqLbAg-SZJj"
      },
      "source": [
        "**Emoji Detector**\r\n",
        "\r\n",
        "We use psychExp datasets. Each instance is associated with seven kinds of emotions: joy, fear, anger, sadness, disgust, shame, guilt.\r\n",
        "\r\n",
        "> each line contains text and its label, formatted with: \r\n",
        "[<label>] <text>.\r\n",
        "\r\n",
        "\r\n",
        "\r\n",
        "\r\n",
        "\r\n"
      ]
    },
    {
      "cell_type": "code",
      "metadata": {
        "id": "uU3TpvexSPzB"
      },
      "source": [
        "import pandas as pd\r\n",
        "import numpy as np\r\n",
        "import matplotlib.pyplot as plt\r\n",
        "import seaborn as sns"
      ],
      "execution_count": null,
      "outputs": []
    },
    {
      "cell_type": "code",
      "metadata": {
        "id": "rCMpW-JEUkDh"
      },
      "source": [
        "def create_dataset(file_name):\r\n",
        "  data = {\"Text\":[],\"Label\":[]}\r\n",
        "  with open(file_name, 'r') as f: \r\n",
        "    for line in f:\r\n",
        "      line = line.strip()\r\n",
        "      label = ' '.join(line[1:line.find(\"]\")].strip().split())\r\n",
        "      text = line[line.find(\"]\")+1:].strip()\r\n",
        "      data[\"Label\"].append(label)\r\n",
        "      data[\"Text\"].append(text)\r\n",
        "  df = pd.DataFrame(data)\r\n",
        "  return df"
      ],
      "execution_count": null,
      "outputs": []
    },
    {
      "cell_type": "code",
      "metadata": {
        "id": "7QJkVFSuTO6w"
      },
      "source": [
        "file_name = \"/Datasets/psychExp.txt\"\r\n",
        "df = create_dataset(file_name)"
      ],
      "execution_count": null,
      "outputs": []
    },
    {
      "cell_type": "code",
      "metadata": {
        "colab": {
          "base_uri": "https://localhost:8080/",
          "height": 402
        },
        "id": "gLq1h8Z1WtTN",
        "outputId": "85edf465-750f-42a5-8275-4756553b61c6"
      },
      "source": [
        "df"
      ],
      "execution_count": null,
      "outputs": [
        {
          "output_type": "execute_result",
          "data": {
            "text/html": [
              "<div>\n",
              "<style scoped>\n",
              "    .dataframe tbody tr th:only-of-type {\n",
              "        vertical-align: middle;\n",
              "    }\n",
              "\n",
              "    .dataframe tbody tr th {\n",
              "        vertical-align: top;\n",
              "    }\n",
              "\n",
              "    .dataframe thead th {\n",
              "        text-align: right;\n",
              "    }\n",
              "</style>\n",
              "<table border=\"1\" class=\"dataframe\">\n",
              "  <thead>\n",
              "    <tr style=\"text-align: right;\">\n",
              "      <th></th>\n",
              "      <th>Text</th>\n",
              "      <th>Label</th>\n",
              "    </tr>\n",
              "  </thead>\n",
              "  <tbody>\n",
              "    <tr>\n",
              "      <th>0</th>\n",
              "      <td>During the period of falling in love, each tim...</td>\n",
              "      <td>1. 0. 0. 0. 0. 0. 0.</td>\n",
              "    </tr>\n",
              "    <tr>\n",
              "      <th>1</th>\n",
              "      <td>When I was involved in a traffic accident.</td>\n",
              "      <td>0. 1. 0. 0. 0. 0. 0.</td>\n",
              "    </tr>\n",
              "    <tr>\n",
              "      <th>2</th>\n",
              "      <td>When I was driving home after  several days of...</td>\n",
              "      <td>0. 0. 1. 0. 0. 0. 0.</td>\n",
              "    </tr>\n",
              "    <tr>\n",
              "      <th>3</th>\n",
              "      <td>When I lost the person who meant the most to me.</td>\n",
              "      <td>0. 0. 0. 1. 0. 0. 0.</td>\n",
              "    </tr>\n",
              "    <tr>\n",
              "      <th>4</th>\n",
              "      <td>The time I knocked a deer down - the sight of ...</td>\n",
              "      <td>0. 0. 0. 0. 1. 0. 0.</td>\n",
              "    </tr>\n",
              "    <tr>\n",
              "      <th>...</th>\n",
              "      <td>...</td>\n",
              "      <td>...</td>\n",
              "    </tr>\n",
              "    <tr>\n",
              "      <th>7475</th>\n",
              "      <td>Two years back someone invited me to be the tu...</td>\n",
              "      <td>0. 0. 1. 0. 0. 0. 0.</td>\n",
              "    </tr>\n",
              "    <tr>\n",
              "      <th>7476</th>\n",
              "      <td>I had taken the responsibility to do something...</td>\n",
              "      <td>0. 0. 0. 1. 0. 0. 0.</td>\n",
              "    </tr>\n",
              "    <tr>\n",
              "      <th>7477</th>\n",
              "      <td>I was at home and I heard a loud sound of spit...</td>\n",
              "      <td>0. 0. 0. 0. 1. 0. 0.</td>\n",
              "    </tr>\n",
              "    <tr>\n",
              "      <th>7478</th>\n",
              "      <td>I did not do the homework that the teacher had...</td>\n",
              "      <td>0. 0. 0. 0. 0. 1. 0.</td>\n",
              "    </tr>\n",
              "    <tr>\n",
              "      <th>7479</th>\n",
              "      <td>I had shouted at my younger brother and he was...</td>\n",
              "      <td>0. 0. 0. 0. 0. 0. 1.</td>\n",
              "    </tr>\n",
              "  </tbody>\n",
              "</table>\n",
              "<p>7480 rows × 2 columns</p>\n",
              "</div>"
            ],
            "text/plain": [
              "                                                   Text                 Label\n",
              "0     During the period of falling in love, each tim...  1. 0. 0. 0. 0. 0. 0.\n",
              "1            When I was involved in a traffic accident.  0. 1. 0. 0. 0. 0. 0.\n",
              "2     When I was driving home after  several days of...  0. 0. 1. 0. 0. 0. 0.\n",
              "3      When I lost the person who meant the most to me.  0. 0. 0. 1. 0. 0. 0.\n",
              "4     The time I knocked a deer down - the sight of ...  0. 0. 0. 0. 1. 0. 0.\n",
              "...                                                 ...                   ...\n",
              "7475  Two years back someone invited me to be the tu...  0. 0. 1. 0. 0. 0. 0.\n",
              "7476  I had taken the responsibility to do something...  0. 0. 0. 1. 0. 0. 0.\n",
              "7477  I was at home and I heard a loud sound of spit...  0. 0. 0. 0. 1. 0. 0.\n",
              "7478  I did not do the homework that the teacher had...  0. 0. 0. 0. 0. 1. 0.\n",
              "7479  I had shouted at my younger brother and he was...  0. 0. 0. 0. 0. 0. 1.\n",
              "\n",
              "[7480 rows x 2 columns]"
            ]
          },
          "metadata": {
            "tags": []
          },
          "execution_count": 15
        }
      ]
    },
    {
      "cell_type": "code",
      "metadata": {
        "colab": {
          "base_uri": "https://localhost:8080/",
          "height": 195
        },
        "id": "isUMjxJuW4Wm",
        "outputId": "860358b1-a6bd-447e-bf69-90a03580acaa"
      },
      "source": [
        "df.head()"
      ],
      "execution_count": null,
      "outputs": [
        {
          "output_type": "execute_result",
          "data": {
            "text/html": [
              "<div>\n",
              "<style scoped>\n",
              "    .dataframe tbody tr th:only-of-type {\n",
              "        vertical-align: middle;\n",
              "    }\n",
              "\n",
              "    .dataframe tbody tr th {\n",
              "        vertical-align: top;\n",
              "    }\n",
              "\n",
              "    .dataframe thead th {\n",
              "        text-align: right;\n",
              "    }\n",
              "</style>\n",
              "<table border=\"1\" class=\"dataframe\">\n",
              "  <thead>\n",
              "    <tr style=\"text-align: right;\">\n",
              "      <th></th>\n",
              "      <th>Text</th>\n",
              "      <th>Label</th>\n",
              "    </tr>\n",
              "  </thead>\n",
              "  <tbody>\n",
              "    <tr>\n",
              "      <th>0</th>\n",
              "      <td>During the period of falling in love, each tim...</td>\n",
              "      <td>1. 0. 0. 0. 0. 0. 0.</td>\n",
              "    </tr>\n",
              "    <tr>\n",
              "      <th>1</th>\n",
              "      <td>When I was involved in a traffic accident.</td>\n",
              "      <td>0. 1. 0. 0. 0. 0. 0.</td>\n",
              "    </tr>\n",
              "    <tr>\n",
              "      <th>2</th>\n",
              "      <td>When I was driving home after  several days of...</td>\n",
              "      <td>0. 0. 1. 0. 0. 0. 0.</td>\n",
              "    </tr>\n",
              "    <tr>\n",
              "      <th>3</th>\n",
              "      <td>When I lost the person who meant the most to me.</td>\n",
              "      <td>0. 0. 0. 1. 0. 0. 0.</td>\n",
              "    </tr>\n",
              "    <tr>\n",
              "      <th>4</th>\n",
              "      <td>The time I knocked a deer down - the sight of ...</td>\n",
              "      <td>0. 0. 0. 0. 1. 0. 0.</td>\n",
              "    </tr>\n",
              "  </tbody>\n",
              "</table>\n",
              "</div>"
            ],
            "text/plain": [
              "                                                Text                 Label\n",
              "0  During the period of falling in love, each tim...  1. 0. 0. 0. 0. 0. 0.\n",
              "1         When I was involved in a traffic accident.  0. 1. 0. 0. 0. 0. 0.\n",
              "2  When I was driving home after  several days of...  0. 0. 1. 0. 0. 0. 0.\n",
              "3   When I lost the person who meant the most to me.  0. 0. 0. 1. 0. 0. 0.\n",
              "4  The time I knocked a deer down - the sight of ...  0. 0. 0. 0. 1. 0. 0."
            ]
          },
          "metadata": {
            "tags": []
          },
          "execution_count": 16
        }
      ]
    },
    {
      "cell_type": "code",
      "metadata": {
        "colab": {
          "base_uri": "https://localhost:8080/"
        },
        "id": "xVYDdSJeW72m",
        "outputId": "5a113a26-0169-4e0b-9240-24b8d7143b7a"
      },
      "source": [
        "df.info()"
      ],
      "execution_count": null,
      "outputs": [
        {
          "output_type": "stream",
          "text": [
            "<class 'pandas.core.frame.DataFrame'>\n",
            "RangeIndex: 7480 entries, 0 to 7479\n",
            "Data columns (total 2 columns):\n",
            " #   Column  Non-Null Count  Dtype \n",
            "---  ------  --------------  ----- \n",
            " 0   Text    7480 non-null   object\n",
            " 1   Label   7480 non-null   object\n",
            "dtypes: object(2)\n",
            "memory usage: 117.0+ KB\n"
          ],
          "name": "stdout"
        }
      ]
    },
    {
      "cell_type": "code",
      "metadata": {
        "colab": {
          "base_uri": "https://localhost:8080/",
          "height": 166
        },
        "id": "73F5dnFUXDDM",
        "outputId": "9fe96a71-30ac-4583-8d83-e041dc639f5a"
      },
      "source": [
        "df.describe()"
      ],
      "execution_count": null,
      "outputs": [
        {
          "output_type": "execute_result",
          "data": {
            "text/html": [
              "<div>\n",
              "<style scoped>\n",
              "    .dataframe tbody tr th:only-of-type {\n",
              "        vertical-align: middle;\n",
              "    }\n",
              "\n",
              "    .dataframe tbody tr th {\n",
              "        vertical-align: top;\n",
              "    }\n",
              "\n",
              "    .dataframe thead th {\n",
              "        text-align: right;\n",
              "    }\n",
              "</style>\n",
              "<table border=\"1\" class=\"dataframe\">\n",
              "  <thead>\n",
              "    <tr style=\"text-align: right;\">\n",
              "      <th></th>\n",
              "      <th>Text</th>\n",
              "      <th>Label</th>\n",
              "    </tr>\n",
              "  </thead>\n",
              "  <tbody>\n",
              "    <tr>\n",
              "      <th>count</th>\n",
              "      <td>7480</td>\n",
              "      <td>7480</td>\n",
              "    </tr>\n",
              "    <tr>\n",
              "      <th>unique</th>\n",
              "      <td>7415</td>\n",
              "      <td>7</td>\n",
              "    </tr>\n",
              "    <tr>\n",
              "      <th>top</th>\n",
              "      <td>When my grandfather died.</td>\n",
              "      <td>1. 0. 0. 0. 0. 0. 0.</td>\n",
              "    </tr>\n",
              "    <tr>\n",
              "      <th>freq</th>\n",
              "      <td>8</td>\n",
              "      <td>1084</td>\n",
              "    </tr>\n",
              "  </tbody>\n",
              "</table>\n",
              "</div>"
            ],
            "text/plain": [
              "                             Text                 Label\n",
              "count                        7480                  7480\n",
              "unique                       7415                     7\n",
              "top     When my grandfather died.  1. 0. 0. 0. 0. 0. 0.\n",
              "freq                            8                  1084"
            ]
          },
          "metadata": {
            "tags": []
          },
          "execution_count": 18
        }
      ]
    },
    {
      "cell_type": "code",
      "metadata": {
        "colab": {
          "base_uri": "https://localhost:8080/",
          "height": 296
        },
        "id": "3_GqPyVsXWPO",
        "outputId": "7fa1300b-4b3f-4c36-9479-caf4b7704f4b"
      },
      "source": [
        "sns.countplot(data=df,x=\"Label\")"
      ],
      "execution_count": null,
      "outputs": [
        {
          "output_type": "execute_result",
          "data": {
            "text/plain": [
              "<matplotlib.axes._subplots.AxesSubplot at 0x7ff34439af90>"
            ]
          },
          "metadata": {
            "tags": []
          },
          "execution_count": 22
        },
        {
          "output_type": "display_data",
          "data": {
            "image/png": "[encoded data removed]",
            "text/plain": [
              "<Figure size 432x288 with 1 Axes>"
            ]
          },
          "metadata": {
            "tags": [],
            "needs_background": "light"
          }
        }
      ]
    },
    {
      "cell_type": "code",
      "metadata": {
        "id": "K60bHlZ5Z2nQ"
      },
      "source": [
        "def convert_label(label):\r\n",
        "  emotions = [\"joy\", 'fear', \"anger\", \"sadness\", \"disgust\", \"shame\", \"guilt\"]\r\n",
        "  items = list(map(float, label.split()))\r\n",
        "  label = \"\"\r\n",
        "  for idx in range(len(items)): \r\n",
        "    if items[idx] == 1: \r\n",
        "      label += emotions[idx] + \" \"\r\n",
        "  return label.strip()"
      ],
      "execution_count": null,
      "outputs": []
    },
    {
      "cell_type": "code",
      "metadata": {
        "id": "JH5N7LEfX3iB"
      },
      "source": [
        ""
      ],
      "execution_count": 49,
      "outputs": []
    },
    {
      "cell_type": "code",
      "metadata": {
        "colab": {
          "base_uri": "https://localhost:8080/"
        },
        "id": "DCFvBj_ba_-R",
        "outputId": "6bf69306-6993-4be6-e3ec-b35f3d4a943e"
      },
      "source": [
        "Y = df[\"Label\"].apply(convert_label)\r\n",
        "Y"
      ],
      "execution_count": 53,
      "outputs": [
        {
          "output_type": "execute_result",
          "data": {
            "text/plain": [
              "0           joy\n",
              "1          fear\n",
              "2         anger\n",
              "3       sadness\n",
              "4       disgust\n",
              "         ...   \n",
              "7475      anger\n",
              "7476    sadness\n",
              "7477    disgust\n",
              "7478      shame\n",
              "7479      guilt\n",
              "Name: Label, Length: 7480, dtype: object"
            ]
          },
          "metadata": {
            "tags": []
          },
          "execution_count": 53
        }
      ]
    },
    {
      "cell_type": "code",
      "metadata": {
        "colab": {
          "base_uri": "https://localhost:8080/",
          "height": 296
        },
        "id": "OkNJL2obbREk",
        "outputId": "28fb8b18-5a7d-4ac0-9d91-03c61e0528c5"
      },
      "source": [
        "sns.countplot(x=\"Y\",data=df)"
      ],
      "execution_count": null,
      "outputs": [
        {
          "output_type": "execute_result",
          "data": {
            "text/plain": [
              "<matplotlib.axes._subplots.AxesSubplot at 0x7ff331906c50>"
            ]
          },
          "metadata": {
            "tags": []
          },
          "execution_count": 36
        },
        {
          "output_type": "display_data",
          "data": {
            "image/png": "[encoded data removed]",
            "text/plain": [
              "<Figure size 432x288 with 1 Axes>"
            ]
          },
          "metadata": {
            "tags": [],
            "needs_background": "light"
          }
        }
      ]
    },
    {
      "cell_type": "code",
      "metadata": {
        "id": "ErS9aLKvrIUP"
      },
      "source": [
        "import string"
      ],
      "execution_count": 60,
      "outputs": []
    },
    {
      "cell_type": "code",
      "metadata": {
        "id": "VCVOf5NXciDH"
      },
      "source": [
        "def message_cleaning(message):\r\n",
        "  Test_punc_removed = [ char for char in message if char not in string.punctuation ]\r\n",
        "  Test_punc_removed_join = ''.join(Test_punc_removed)\r\n",
        "  return Test_punc_removed_join"
      ],
      "execution_count": 63,
      "outputs": []
    },
    {
      "cell_type": "code",
      "metadata": {
        "id": "-rIncQukrhcH"
      },
      "source": [
        " from sklearn.feature_extraction.text import CountVectorizer\r\n",
        " vectorizer = CountVectorizer(analyzer=message_cleaning)\r\n",
        " text = vectorizer.fit_transform(df['Text'])"
      ],
      "execution_count": 90,
      "outputs": []
    },
    {
      "cell_type": "code",
      "metadata": {
        "colab": {
          "base_uri": "https://localhost:8080/"
        },
        "id": "2lJzeey6spOJ",
        "outputId": "39261bf9-8291-4d0d-954f-c671cdeccf7e"
      },
      "source": [
        "print(vectorizer.get_feature_names())"
      ],
      "execution_count": 91,
      "outputs": [
        {
          "output_type": "stream",
          "text": [
            "[' ', '0', '1', '2', '3', '4', '5', '6', '7', '8', '9', 'A', 'B', 'C', 'D', 'E', 'F', 'G', 'H', 'I', 'J', 'K', 'L', 'M', 'N', 'O', 'P', 'Q', 'R', 'S', 'T', 'U', 'V', 'W', 'X', 'Y', 'Z', 'a', 'b', 'c', 'd', 'e', 'f', 'g', 'h', 'i', 'j', 'k', 'l', 'm', 'n', 'o', 'p', 'q', 'r', 's', 't', 'u', 'v', 'w', 'x', 'y', 'z', '¦', '÷']\n"
          ],
          "name": "stdout"
        }
      ]
    },
    {
      "cell_type": "code",
      "metadata": {
        "colab": {
          "base_uri": "https://localhost:8080/"
        },
        "id": "pNTqUHGUtc_i",
        "outputId": "7ec6c720-faea-4883-cd97-bb59f81a9908"
      },
      "source": [
        "print(text.toarray())"
      ],
      "execution_count": 92,
      "outputs": [
        {
          "output_type": "stream",
          "text": [
            "[[22  0  0 ...  0  0  0]\n",
            " [ 7  0  0 ...  0  0  0]\n",
            " [34  1  0 ...  0  0  0]\n",
            " ...\n",
            " [35  0  0 ...  0  0  0]\n",
            " [18  0  0 ...  0  0  0]\n",
            " [16  0  0 ...  0  0  0]]\n"
          ],
          "name": "stdout"
        }
      ]
    },
    {
      "cell_type": "code",
      "metadata": {
        "colab": {
          "base_uri": "https://localhost:8080/"
        },
        "id": "fKKap7qStmNS",
        "outputId": "c78afa67-5951-417a-a5a1-d029ba1b211d"
      },
      "source": [
        "print(emoji.toarray())"
      ],
      "execution_count": 93,
      "outputs": [
        {
          "output_type": "stream",
          "text": [
            "[[6 6 1]\n",
            " [6 6 1]\n",
            " [6 6 1]\n",
            " ...\n",
            " [6 6 1]\n",
            " [6 6 1]\n",
            " [6 6 1]]\n"
          ],
          "name": "stdout"
        }
      ]
    },
    {
      "cell_type": "code",
      "metadata": {
        "colab": {
          "base_uri": "https://localhost:8080/"
        },
        "id": "9r4fd0yXuTJt",
        "outputId": "5524d116-a649-45c0-90f8-d5d45a5206dd"
      },
      "source": [
        "from sklearn.model_selection import train_test_split\r\n",
        "X_train,X_test,y_train,y_test = train_test_split(text,Y,test_size=0.2)\r\n",
        "X_train.shape,y_train.shape"
      ],
      "execution_count": 94,
      "outputs": [
        {
          "output_type": "execute_result",
          "data": {
            "text/plain": [
              "((5984, 65), (5984,))"
            ]
          },
          "metadata": {
            "tags": []
          },
          "execution_count": 94
        }
      ]
    },
    {
      "cell_type": "code",
      "metadata": {
        "colab": {
          "base_uri": "https://localhost:8080/"
        },
        "id": "GEmxbvkruis7",
        "outputId": "c414da20-7958-4ffa-94d9-4d85bd88d8e1"
      },
      "source": [
        "from sklearn.naive_bayes import MultinomialNB\r\n",
        "NB_classifier = MultinomialNB()\r\n",
        "NB_classifier.fit(X_train,y_train)"
      ],
      "execution_count": 95,
      "outputs": [
        {
          "output_type": "execute_result",
          "data": {
            "text/plain": [
              "MultinomialNB(alpha=1.0, class_prior=None, fit_prior=True)"
            ]
          },
          "metadata": {
            "tags": []
          },
          "execution_count": 95
        }
      ]
    },
    {
      "cell_type": "code",
      "metadata": {
        "colab": {
          "base_uri": "https://localhost:8080/"
        },
        "id": "jwKyGc7eur8I",
        "outputId": "a60e249d-5052-4ab5-8f82-23e620446284"
      },
      "source": [
        "y_predict_class = NB_classifier.predict(X_train)\r\n",
        "y_predict_class"
      ],
      "execution_count": 96,
      "outputs": [
        {
          "output_type": "execute_result",
          "data": {
            "text/plain": [
              "array(['anger', 'anger', 'fear', ..., 'joy', 'joy', 'disgust'],\n",
              "      dtype='<U7')"
            ]
          },
          "metadata": {
            "tags": []
          },
          "execution_count": 96
        }
      ]
    },
    {
      "cell_type": "code",
      "metadata": {
        "colab": {
          "base_uri": "https://localhost:8080/",
          "height": 282
        },
        "id": "1CnBgfpxv8xO",
        "outputId": "68e46bd4-f140-4cd3-8a82-e44731c20bde"
      },
      "source": [
        "from sklearn.metrics import confusion_matrix,classification_report\r\n",
        "cm = confusion_matrix(y_train,y_predict_class)\r\n",
        "sns.heatmap(cm,annot = True)"
      ],
      "execution_count": 97,
      "outputs": [
        {
          "output_type": "execute_result",
          "data": {
            "text/plain": [
              "<matplotlib.axes._subplots.AxesSubplot at 0x7ff323b01ad0>"
            ]
          },
          "metadata": {
            "tags": []
          },
          "execution_count": 97
        },
        {
          "output_type": "display_data",
          "data": {
            "image/png": "[encoded data removed]",
            "text/plain": [
              "<Figure size 432x288 with 2 Axes>"
            ]
          },
          "metadata": {
            "tags": [],
            "needs_background": "light"
          }
        }
      ]
    },
    {
      "cell_type": "code",
      "metadata": {
        "colab": {
          "base_uri": "https://localhost:8080/",
          "height": 282
        },
        "id": "uLzAmMxLwnUj",
        "outputId": "db4c01d5-0f05-4c25-ba6d-d07b4b6c74b2"
      },
      "source": [
        "y_predict_class = NB_classifier.predict(X_test)\r\n",
        "y_predict_class\r\n",
        "cm = confusion_matrix(y_test,y_predict_class)\r\n",
        "sns.heatmap(cm,annot = True)"
      ],
      "execution_count": 98,
      "outputs": [
        {
          "output_type": "execute_result",
          "data": {
            "text/plain": [
              "<matplotlib.axes._subplots.AxesSubplot at 0x7ff31b1a7790>"
            ]
          },
          "metadata": {
            "tags": []
          },
          "execution_count": 98
        },
        {
          "output_type": "display_data",
          "data": {
            "image/png": "[encoded data removed]",
            "text/plain": [
              "<Figure size 432x288 with 2 Axes>"
            ]
          },
          "metadata": {
            "tags": [],
            "needs_background": "light"
          }
        }
      ]
    },
    {
      "cell_type": "code",
      "metadata": {
        "colab": {
          "base_uri": "https://localhost:8080/"
        },
        "id": "k0YdzcWiygnN",
        "outputId": "67cd106d-ad39-4442-8048-de02768c2140"
      },
      "source": [
        "from sklearn.metrics import accuracy_score\r\n",
        "accuracy = accuracy_score(y_test,y_predict_class)\r\n",
        "accuracy"
      ],
      "execution_count": 106,
      "outputs": [
        {
          "output_type": "execute_result",
          "data": {
            "text/plain": [
              "0.3355614973262032"
            ]
          },
          "metadata": {
            "tags": []
          },
          "execution_count": 106
        }
      ]
    },
    {
      "cell_type": "code",
      "metadata": {
        "colab": {
          "base_uri": "https://localhost:8080/"
        },
        "id": "gp8DCIAFwsbl",
        "outputId": "eeb29c99-6450-492b-b7fa-2ddf56d631ad"
      },
      "source": [
        "print(classification_report(y_test,y_predict_class))"
      ],
      "execution_count": 107,
      "outputs": [
        {
          "output_type": "stream",
          "text": [
            "              precision    recall  f1-score   support\n",
            "\n",
            "       anger       0.37      0.27      0.31       228\n",
            "     disgust       0.30      0.36      0.33       214\n",
            "        fear       0.31      0.38      0.34       192\n",
            "       guilt       0.30      0.32      0.31       213\n",
            "         joy       0.39      0.45      0.42       227\n",
            "     sadness       0.37      0.42      0.40       213\n",
            "       shame       0.26      0.14      0.18       209\n",
            "\n",
            "    accuracy                           0.34      1496\n",
            "   macro avg       0.33      0.34      0.33      1496\n",
            "weighted avg       0.33      0.34      0.33      1496\n",
            "\n"
          ],
          "name": "stdout"
        }
      ]
    },
    {
      "cell_type": "code",
      "metadata": {
        "colab": {
          "base_uri": "https://localhost:8080/"
        },
        "id": "cfdSWVqCwwnr",
        "outputId": "449e7a1b-ceb5-43ec-8fa9-b1f90d10a338"
      },
      "source": [
        "# trainig with complete dataset\r\n",
        "from sklearn.naive_bayes import MultinomialNB\r\n",
        "NB_classifier = MultinomialNB()\r\n",
        "NB_classifier.fit(text,Y)"
      ],
      "execution_count": 108,
      "outputs": [
        {
          "output_type": "execute_result",
          "data": {
            "text/plain": [
              "MultinomialNB(alpha=1.0, class_prior=None, fit_prior=True)"
            ]
          },
          "metadata": {
            "tags": []
          },
          "execution_count": 108
        }
      ]
    },
    {
      "cell_type": "code",
      "metadata": {
        "colab": {
          "base_uri": "https://localhost:8080/"
        },
        "id": "PSemP8wsxS8-",
        "outputId": "76421e0c-2a6f-45a7-a7f4-b8e5f5591967"
      },
      "source": [
        "testing_sample = ['shit food ,made me sick']\r\n",
        "testing_sample_vectrizer = vectorizer.transform(testing_sample)\r\n",
        "test_predict = NB_classifier.predict(testing_sample_vectrizer)\r\n",
        "test_predict"
      ],
      "execution_count": 109,
      "outputs": [
        {
          "output_type": "execute_result",
          "data": {
            "text/plain": [
              "array(['disgust'], dtype='<U7')"
            ]
          },
          "metadata": {
            "tags": []
          },
          "execution_count": 109
        }
      ]
    },
    {
      "cell_type": "code",
      "metadata": {
        "colab": {
          "base_uri": "https://localhost:8080/",
          "height": 282
        },
        "id": "WP5yeF0QxcuN",
        "outputId": "c4eb8660-e012-494d-a9bd-c629a98e054c"
      },
      "source": [
        "from sklearn.metrics import confusion_matrix,classification_report\r\n",
        "y_predict_class = NB_classifier.predict(X_test)\r\n",
        "y_predict_class\r\n",
        "cm = confusion_matrix(y_test,y_predict_class)\r\n",
        "sns.heatmap(cm,annot = True)"
      ],
      "execution_count": 104,
      "outputs": [
        {
          "output_type": "execute_result",
          "data": {
            "text/plain": [
              "<matplotlib.axes._subplots.AxesSubplot at 0x7ff31afee850>"
            ]
          },
          "metadata": {
            "tags": []
          },
          "execution_count": 104
        },
        {
          "output_type": "display_data",
          "data": {
            "image/png": "[encoded data removed]",
            "text/plain": [
              "<Figure size 432x288 with 2 Axes>"
            ]
          },
          "metadata": {
            "tags": [],
            "needs_background": "light"
          }
        }
      ]
    },
    {
      "cell_type": "code",
      "metadata": {
        "colab": {
          "base_uri": "https://localhost:8080/"
        },
        "id": "CM3j7KilxlXj",
        "outputId": "f6dc3929-57e0-44da-f1d9-21ab7291bc78"
      },
      "source": [
        "from sklearn.metrics import accuracy_score\r\n",
        "accuracy = accuracy_score(y_test,y_predict_class)\r\n",
        "accuracy"
      ],
      "execution_count": 105,
      "outputs": [
        {
          "output_type": "execute_result",
          "data": {
            "text/plain": [
              "0.3355614973262032"
            ]
          },
          "metadata": {
            "tags": []
          },
          "execution_count": 105
        }
      ]
    },
    {
      "cell_type": "code",
      "metadata": {
        "colab": {
          "base_uri": "https://localhost:8080/"
        },
        "id": "mGIdZIGpyYyV",
        "outputId": "20ff62bb-9872-4dc3-f5d1-067e7e6077f7"
      },
      "source": [
        "print(classification_report(y_test,y_predict_class))"
      ],
      "execution_count": 110,
      "outputs": [
        {
          "output_type": "stream",
          "text": [
            "              precision    recall  f1-score   support\n",
            "\n",
            "       anger       0.37      0.27      0.31       228\n",
            "     disgust       0.30      0.36      0.33       214\n",
            "        fear       0.31      0.38      0.34       192\n",
            "       guilt       0.30      0.32      0.31       213\n",
            "         joy       0.39      0.45      0.42       227\n",
            "     sadness       0.37      0.42      0.40       213\n",
            "       shame       0.26      0.14      0.18       209\n",
            "\n",
            "    accuracy                           0.34      1496\n",
            "   macro avg       0.33      0.34      0.33      1496\n",
            "weighted avg       0.33      0.34      0.33      1496\n",
            "\n"
          ],
          "name": "stdout"
        }
      ]
    },
    {
      "cell_type": "code",
      "metadata": {
        "id": "fAVPUysWylr_"
      },
      "source": [
        ""
      ],
      "execution_count": null,
      "outputs": []
    }
  ]
}